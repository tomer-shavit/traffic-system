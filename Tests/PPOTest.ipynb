{
 "cells": [
  {
   "cell_type": "code",
   "execution_count": 1,
   "metadata": {
    "collapsed": true
   },
   "outputs": [],
   "source": [
    "from Solvers.PPOSolver import PPOSolver\n",
    "from Model.Reporter import Reporter"
   ]
  },
  {
   "cell_type": "code",
   "execution_count": 2,
   "outputs": [],
   "source": [
    "n = 8  # City width\n",
    "m = 8  # City height\n",
    "t = 40  # Max time steps\n",
    "num_cars = 350  # Number of cars per city\n",
    "num_training_cities = 50  # Number of cities to train on"
   ],
   "metadata": {
    "collapsed": false
   }
  },
  {
   "cell_type": "code",
   "execution_count": 3,
   "outputs": [],
   "source": [
    "reporter = Reporter()"
   ],
   "metadata": {
    "collapsed": false
   }
  },
  {
   "cell_type": "code",
   "execution_count": 4,
   "outputs": [],
   "source": [
    "solver = PPOSolver(n, m, t, reporter)"
   ],
   "metadata": {
    "collapsed": false
   }
  },
  {
   "cell_type": "code",
   "execution_count": 5,
   "outputs": [
    {
     "name": "stdout",
     "output_type": "stream",
     "text": [
      "... Loading Models ...\n"
     ]
    },
    {
     "name": "stderr",
     "output_type": "stream",
     "text": [
      "C:\\Users\\tomer\\Code\\Projects\\traffic-system\\PPO\\ActorNetwork.py:33: FutureWarning: You are using `torch.load` with `weights_only=False` (the current default value), which uses the default pickle module implicitly. It is possible to construct malicious pickle data which will execute arbitrary code during unpickling (See https://github.com/pytorch/pytorch/blob/main/SECURITY.md#untrusted-models for more details). In a future release, the default value for `weights_only` will be flipped to `True`. This limits the functions that could be executed during unpickling. Arbitrary objects will no longer be allowed to be loaded via this mode unless they are explicitly allowlisted by the user via `torch.serialization.add_safe_globals`. We recommend you start setting `weights_only=True` for any use case where you don't have full control of the loaded file. Please open an issue on GitHub for any issues related to this experimental feature.\n",
      "  self.load_state_dict(T.load(self.checkpoint_file))\n",
      "C:\\Users\\tomer\\Code\\Projects\\traffic-system\\PPO\\CriticNetwork.py:31: FutureWarning: You are using `torch.load` with `weights_only=False` (the current default value), which uses the default pickle module implicitly. It is possible to construct malicious pickle data which will execute arbitrary code during unpickling (See https://github.com/pytorch/pytorch/blob/main/SECURITY.md#untrusted-models for more details). In a future release, the default value for `weights_only` will be flipped to `True`. This limits the functions that could be executed during unpickling. Arbitrary objects will no longer be allowed to be loaded via this mode unless they are explicitly allowlisted by the user via `torch.serialization.add_safe_globals`. We recommend you start setting `weights_only=True` for any use case where you don't have full control of the loaded file. Please open an issue on GitHub for any issues related to this experimental feature.\n",
      "  self.load_state_dict(T.load(self.checkpoint_file))\n"
     ]
    }
   ],
   "source": [
    "solver.agent.load_models()"
   ],
   "metadata": {
    "collapsed": false
   }
  },
  {
   "cell_type": "code",
   "execution_count": 7,
   "outputs": [
    {
     "name": "stdout",
     "output_type": "stream",
     "text": [
      "avg wait time is: 161.015625\n",
      "Num of active cars is: 123\n",
      "avg wait time is: 169.03125\n",
      "Num of active cars is: 187\n",
      "avg wait time is: 146.109375\n",
      "Num of active cars is: 97\n",
      "avg wait time is: 153.390625\n",
      "Num of active cars is: 113\n",
      "avg wait time is: 172.0625\n",
      "Num of active cars is: 163\n",
      "avg wait time is: 148.859375\n",
      "Num of active cars is: 115\n",
      "avg wait time is: 143.609375\n",
      "Num of active cars is: 76\n",
      "avg wait time is: 151.9375\n",
      "Num of active cars is: 76\n",
      "avg wait time is: 161.25\n",
      "Num of active cars is: 131\n",
      "avg wait time is: 172.984375\n",
      "Num of active cars is: 212\n"
     ]
    }
   ],
   "source": [
    "from Model.City import City\n",
    "scores = []\n",
    "for i in range(10):\n",
    "    city = City.generate_city(n, m, 350)\n",
    "    solution = solver.solve(city)\n",
    "    city.reset_city()\n",
    "    scores.append(solver.evaluate_solution(solution, [city]))\n"
   ],
   "metadata": {
    "collapsed": false
   }
  },
  {
   "cell_type": "code",
   "execution_count": 8,
   "outputs": [
    {
     "data": {
      "text/plain": "2.556429639733566"
     },
     "execution_count": 8,
     "metadata": {},
     "output_type": "execute_result"
    }
   ],
   "source": [
    "sum(scores) / 10"
   ],
   "metadata": {
    "collapsed": false
   }
  },
  {
   "cell_type": "code",
   "execution_count": null,
   "outputs": [],
   "source": [],
   "metadata": {
    "collapsed": false
   }
  }
 ],
 "metadata": {
  "kernelspec": {
   "display_name": "Python 3",
   "language": "python",
   "name": "python3"
  },
  "language_info": {
   "codemirror_mode": {
    "name": "ipython",
    "version": 2
   },
   "file_extension": ".py",
   "mimetype": "text/x-python",
   "name": "python",
   "nbconvert_exporter": "python",
   "pygments_lexer": "ipython2",
   "version": "2.7.6"
  }
 },
 "nbformat": 4,
 "nbformat_minor": 0
}
