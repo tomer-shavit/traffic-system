{
 "cells": [
  {
   "cell_type": "code",
   "execution_count": null,
   "metadata": {
    "collapsed": true,
    "pycharm": {
     "is_executing": true
    }
   },
   "outputs": [],
   "source": [
    "from Solvers.PPOSolver import PPOSolver\n",
    "from Model.Reporter import Reporter"
   ]
  },
  {
   "cell_type": "code",
   "execution_count": 1,
   "outputs": [],
   "source": [
    "n = 8  # City width\n",
    "m = 8  # City height\n",
    "t = 40  # Max time steps\n",
    "num_cars = 350  # Number of cars per city\n",
    "num_training_cities = 1000  # Number of cities to train on"
   ],
   "metadata": {
    "collapsed": false
   }
  },
  {
   "cell_type": "code",
   "execution_count": 3,
   "outputs": [
    {
     "ename": "NameError",
     "evalue": "name 'Reporter' is not defined",
     "output_type": "error",
     "traceback": [
      "\u001B[1;31m---------------------------------------------------------------------------\u001B[0m",
      "\u001B[1;31mNameError\u001B[0m                                 Traceback (most recent call last)",
      "Cell \u001B[1;32mIn[3], line 1\u001B[0m\n\u001B[1;32m----> 1\u001B[0m reporter \u001B[38;5;241m=\u001B[39m \u001B[43mReporter\u001B[49m()\n",
      "\u001B[1;31mNameError\u001B[0m: name 'Reporter' is not defined"
     ]
    }
   ],
   "source": [
    "reporter = Reporter()"
   ],
   "metadata": {
    "collapsed": false
   }
  },
  {
   "cell_type": "code",
   "execution_count": 4,
   "outputs": [],
   "source": [
    "solver = PPOSolver(n, m, t, reporter)\n"
   ],
   "metadata": {
    "collapsed": false
   }
  },
  {
   "cell_type": "code",
   "execution_count": 5,
   "outputs": [
    {
     "name": "stdout",
     "output_type": "stream",
     "text": [
      "starting to going over city number 1 out of 1000\n"
     ]
    },
    {
     "name": "stderr",
     "output_type": "stream",
     "text": [
      "C:\\Users\\tomer\\Code\\Projects\\traffic-system\\PPO\\Agent.py:41: UserWarning: Creating a tensor from a list of numpy.ndarrays is extremely slow. Please consider converting the list to a single numpy.ndarray with numpy.array() before converting to a tensor. (Triggered internally at C:\\actions-runner\\_work\\pytorch\\pytorch\\builder\\windows\\pytorch\\torch\\csrc\\utils\\tensor_new.cpp:281.)\n",
      "  state = T.tensor([observation], dtype=T.float).to(self.actor.device)\n"
     ]
    },
    {
     "name": "stdout",
     "output_type": "stream",
     "text": [
      "The score for city 0 is: 2.063604873036576\n"
     ]
    },
    {
     "ename": "RuntimeError",
     "evalue": "Max iteration reached and there are still: 310 active cars.",
     "output_type": "error",
     "traceback": [
      "\u001B[1;31m---------------------------------------------------------------------------\u001B[0m",
      "\u001B[1;31mRuntimeError\u001B[0m                              Traceback (most recent call last)",
      "Cell \u001B[1;32mIn[5], line 1\u001B[0m\n\u001B[1;32m----> 1\u001B[0m \u001B[43msolver\u001B[49m\u001B[38;5;241;43m.\u001B[39;49m\u001B[43mtrain\u001B[49m\u001B[43m(\u001B[49m\u001B[43mnum_training_cities\u001B[49m\u001B[43m,\u001B[49m\u001B[43m \u001B[49m\u001B[43mnum_cars\u001B[49m\u001B[43m)\u001B[49m\n",
      "File \u001B[1;32m~\\Code\\Projects\\traffic-system\\Solvers\\PPOSolver.py:106\u001B[0m, in \u001B[0;36mPPOSolver.train\u001B[1;34m(self, num_cities, num_cars)\u001B[0m\n\u001B[0;32m    104\u001B[0m scores\u001B[38;5;241m.\u001B[39mappend(total_score \u001B[38;5;241m/\u001B[39m \u001B[38;5;28mself\u001B[39m\u001B[38;5;241m.\u001B[39mt)\n\u001B[0;32m    105\u001B[0m city\u001B[38;5;241m.\u001B[39mreset_city()\n\u001B[1;32m--> 106\u001B[0m solution \u001B[38;5;241m=\u001B[39m \u001B[38;5;28;43mself\u001B[39;49m\u001B[38;5;241;43m.\u001B[39;49m\u001B[43msolve\u001B[49m\u001B[43m(\u001B[49m\u001B[43mcity\u001B[49m\u001B[43m)\u001B[49m\n\u001B[0;32m    107\u001B[0m \u001B[38;5;28mself\u001B[39m\u001B[38;5;241m.\u001B[39mreporter\u001B[38;5;241m.\u001B[39mrecord_generations_best_solutions(\u001B[38;5;28mself\u001B[39m\u001B[38;5;241m.\u001B[39mevaluate_solution(solution, [city], report\u001B[38;5;241m=\u001B[39m\u001B[38;5;28;01mTrue\u001B[39;00m),\n\u001B[0;32m    108\u001B[0m                                                 solution)\n\u001B[0;32m    109\u001B[0m \u001B[38;5;28;01mif\u001B[39;00m scores[\u001B[38;5;241m-\u001B[39m\u001B[38;5;241m1\u001B[39m] \u001B[38;5;241m>\u001B[39m best_score:\n",
      "File \u001B[1;32m~\\Code\\Projects\\traffic-system\\Solvers\\PPOSolver.py:66\u001B[0m, in \u001B[0;36mPPOSolver.solve\u001B[1;34m(self, city)\u001B[0m\n\u001B[0;32m     63\u001B[0m     counter \u001B[38;5;241m+\u001B[39m\u001B[38;5;241m=\u001B[39m \u001B[38;5;241m1\u001B[39m\n\u001B[0;32m     65\u001B[0m \u001B[38;5;28;01mif\u001B[39;00m counter \u001B[38;5;241m>\u001B[39m\u001B[38;5;241m=\u001B[39m MAX_ITERATIONS:\n\u001B[1;32m---> 66\u001B[0m     \u001B[38;5;28;01mraise\u001B[39;00m \u001B[38;5;167;01mRuntimeError\u001B[39;00m(\u001B[38;5;124mf\u001B[39m\u001B[38;5;124m\"\u001B[39m\u001B[38;5;124mMax iteration reached and there are still: \u001B[39m\u001B[38;5;132;01m{\u001B[39;00mcity\u001B[38;5;241m.\u001B[39mactive_cars_amount()\u001B[38;5;132;01m}\u001B[39;00m\u001B[38;5;124m active cars.\u001B[39m\u001B[38;5;124m\"\u001B[39m)\n\u001B[0;32m     67\u001B[0m city\u001B[38;5;241m.\u001B[39mreset_city()\n\u001B[0;32m     68\u001B[0m \u001B[38;5;28;01mreturn\u001B[39;00m np\u001B[38;5;241m.\u001B[39marray(solution)\n",
      "\u001B[1;31mRuntimeError\u001B[0m: Max iteration reached and there are still: 310 active cars."
     ]
    }
   ],
   "source": [
    "solver.train(num_training_cities, num_cars)"
   ],
   "metadata": {
    "collapsed": false
   }
  },
  {
   "cell_type": "code",
   "execution_count": 8,
   "outputs": [
    {
     "name": "stdout",
     "output_type": "stream",
     "text": [
      "... Loading Models ...\n"
     ]
    },
    {
     "name": "stderr",
     "output_type": "stream",
     "text": [
      "C:\\Users\\tomer\\Code\\Projects\\traffic-system\\PPO\\ActorNetwork.py:33: FutureWarning: You are using `torch.load` with `weights_only=False` (the current default value), which uses the default pickle module implicitly. It is possible to construct malicious pickle data which will execute arbitrary code during unpickling (See https://github.com/pytorch/pytorch/blob/main/SECURITY.md#untrusted-models for more details). In a future release, the default value for `weights_only` will be flipped to `True`. This limits the functions that could be executed during unpickling. Arbitrary objects will no longer be allowed to be loaded via this mode unless they are explicitly allowlisted by the user via `torch.serialization.add_safe_globals`. We recommend you start setting `weights_only=True` for any use case where you don't have full control of the loaded file. Please open an issue on GitHub for any issues related to this experimental feature.\n",
      "  self.load_state_dict(T.load(self.checkpoint_file))\n",
      "C:\\Users\\tomer\\Code\\Projects\\traffic-system\\PPO\\CriticNetwork.py:31: FutureWarning: You are using `torch.load` with `weights_only=False` (the current default value), which uses the default pickle module implicitly. It is possible to construct malicious pickle data which will execute arbitrary code during unpickling (See https://github.com/pytorch/pytorch/blob/main/SECURITY.md#untrusted-models for more details). In a future release, the default value for `weights_only` will be flipped to `True`. This limits the functions that could be executed during unpickling. Arbitrary objects will no longer be allowed to be loaded via this mode unless they are explicitly allowlisted by the user via `torch.serialization.add_safe_globals`. We recommend you start setting `weights_only=True` for any use case where you don't have full control of the loaded file. Please open an issue on GitHub for any issues related to this experimental feature.\n",
      "  self.load_state_dict(T.load(self.checkpoint_file))\n"
     ]
    }
   ],
   "source": [
    "solver.agent.load_models()"
   ],
   "metadata": {
    "collapsed": false
   }
  },
  {
   "cell_type": "code",
   "execution_count": 9,
   "outputs": [
    {
     "name": "stderr",
     "output_type": "stream",
     "text": [
      "C:\\Users\\tomer\\Code\\Projects\\traffic-system\\PPO\\Agent.py:41: UserWarning: Creating a tensor from a list of numpy.ndarrays is extremely slow. Please consider converting the list to a single numpy.ndarray with numpy.array() before converting to a tensor. (Triggered internally at C:\\actions-runner\\_work\\pytorch\\pytorch\\builder\\windows\\pytorch\\torch\\csrc\\utils\\tensor_new.cpp:281.)\n",
      "  state = T.tensor([observation], dtype=T.float).to(self.actor.device)\n"
     ]
    },
    {
     "name": "stdout",
     "output_type": "stream",
     "text": [
      "avg wait time is: 156.921875\n",
      "Num of active cars is: 111\n",
      "avg wait time is: 151.53125\n",
      "Num of active cars is: 75\n",
      "avg wait time is: 146.515625\n",
      "Num of active cars is: 54\n",
      "avg wait time is: 159.953125\n",
      "Num of active cars is: 143\n",
      "avg wait time is: 148.109375\n",
      "Num of active cars is: 75\n",
      "avg wait time is: 143.484375\n",
      "Num of active cars is: 48\n",
      "avg wait time is: 136.78125\n",
      "Num of active cars is: 38\n",
      "avg wait time is: 174.390625\n",
      "Num of active cars is: 179\n",
      "avg wait time is: 171.15625\n",
      "Num of active cars is: 174\n",
      "avg wait time is: 145.5\n",
      "Num of active cars is: 54\n"
     ]
    }
   ],
   "source": [
    "from Model.City import City\n",
    "scores = []\n",
    "for i in range(10):\n",
    "    city = City.generate_city(n, m, 350)\n",
    "    solution = solver.solve(city)\n",
    "    city.reset_city()\n",
    "    scores.append(solver.evaluate_solution(solution, [city]))\n"
   ],
   "metadata": {
    "collapsed": false
   }
  },
  {
   "cell_type": "code",
   "execution_count": 10,
   "outputs": [
    {
     "data": {
      "text/plain": "2.6559529806858633"
     },
     "execution_count": 10,
     "metadata": {},
     "output_type": "execute_result"
    }
   ],
   "source": [
    "sum(scores) / 10"
   ],
   "metadata": {
    "collapsed": false
   }
  },
  {
   "cell_type": "code",
   "execution_count": null,
   "outputs": [],
   "source": [],
   "metadata": {
    "collapsed": false
   }
  }
 ],
 "metadata": {
  "kernelspec": {
   "display_name": "Python 3",
   "language": "python",
   "name": "python3"
  },
  "language_info": {
   "codemirror_mode": {
    "name": "ipython",
    "version": 2
   },
   "file_extension": ".py",
   "mimetype": "text/x-python",
   "name": "python",
   "nbconvert_exporter": "python",
   "pygments_lexer": "ipython2",
   "version": "2.7.6"
  }
 },
 "nbformat": 4,
 "nbformat_minor": 0
}
