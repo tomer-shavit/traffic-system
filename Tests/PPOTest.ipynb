{
 "cells": [
  {
   "cell_type": "code",
   "execution_count": 1,
   "metadata": {
    "collapsed": true
   },
   "outputs": [],
   "source": [
    "from Solvers.PPOSolver import PPOSolver\n",
    "from Model.Reporter import Reporter"
   ]
  },
  {
   "cell_type": "code",
   "execution_count": 2,
   "outputs": [],
   "source": [
    "\n",
    "n = 8  # City width\n",
    "m = 8  # City height\n",
    "t = 40  # Max time steps\n",
    "num_cars = 350  # Number of cars per city\n",
    "num_training_cities = 50  # Number of cities to train on"
   ],
   "metadata": {
    "collapsed": false
   }
  },
  {
   "cell_type": "code",
   "execution_count": 3,
   "outputs": [],
   "source": [
    "\n",
    "reporter = Reporter()\n"
   ],
   "metadata": {
    "collapsed": false
   }
  },
  {
   "cell_type": "code",
   "execution_count": 4,
   "outputs": [],
   "source": [
    "\n",
    "solver = PPOSolver(n, m, t, reporter)"
   ],
   "metadata": {
    "collapsed": false
   }
  },
  {
   "cell_type": "code",
   "execution_count": null,
   "outputs": [
    {
     "name": "stdout",
     "output_type": "stream",
     "text": [
      "Training the solver...\n",
      "starting to going over city number 1 out of 50\n"
     ]
    },
    {
     "name": "stderr",
     "output_type": "stream",
     "text": [
      "C:\\Users\\tomer\\Code\\Projects\\traffic-system\\PPO\\Agent.py:41: UserWarning: Creating a tensor from a list of numpy.ndarrays is extremely slow. Please consider converting the list to a single numpy.ndarray with numpy.array() before converting to a tensor. (Triggered internally at C:\\actions-runner\\_work\\pytorch\\pytorch\\builder\\windows\\pytorch\\torch\\csrc\\utils\\tensor_new.cpp:281.)\n",
      "  state = T.tensor([observation], dtype=T.float).to(self.actor.device)\n"
     ]
    },
    {
     "name": "stdout",
     "output_type": "stream",
     "text": [
      "avg wait time is: 194.0\n",
      "Num of active cars is: 321\n",
      "Score for city 1 is: 2.1048221968690015\n",
      "best score updated from: -inf to avg score: 2.1048221968690015\n",
      "... Saving Models ...\n",
      "starting to going over city number 2 out of 50\n",
      "avg wait time is: 195.8125\n",
      "Num of active cars is: 313\n",
      "Score for city 2 is: 2.1511811523163433\n",
      "best score updated from: 2.1048221968690015 to avg score: 2.1280016745926726\n",
      "... Saving Models ...\n",
      "starting to going over city number 3 out of 50\n",
      "avg wait time is: 191.546875\n",
      "Num of active cars is: 261\n",
      "Score for city 3 is: 2.2924038349932254\n",
      "best score updated from: 2.1280016745926726 to avg score: 2.18280239472619\n",
      "... Saving Models ...\n",
      "starting to going over city number 4 out of 50\n",
      "avg wait time is: 184.1875\n",
      "Num of active cars is: 221\n",
      "Score for city 4 is: 2.384688371093669\n",
      "best score updated from: 2.18280239472619 to avg score: 2.2332738888180597\n",
      "... Saving Models ...\n",
      "starting to going over city number 5 out of 50\n",
      "avg wait time is: 201.96875\n",
      "Num of active cars is: 347\n",
      "Score for city 5 is: 2.0390887910884876\n",
      "starting to going over city number 6 out of 50\n",
      "avg wait time is: 202.484375\n",
      "Num of active cars is: 350\n",
      "Score for city 6 is: 2.035297671939757\n",
      "starting to going over city number 7 out of 50\n",
      "avg wait time is: 202.03125\n",
      "Num of active cars is: 350\n",
      "Score for city 7 is: 2.0435629486069473\n",
      "starting to going over city number 8 out of 50\n",
      "avg wait time is: 201.90625\n",
      "Num of active cars is: 350\n",
      "Score for city 8 is: 2.0463020853785094\n",
      "starting to going over city number 9 out of 50\n",
      "avg wait time is: 202.65625\n",
      "Num of active cars is: 350\n",
      "Score for city 9 is: 2.0386526452935376\n",
      "starting to going over city number 10 out of 50\n",
      "avg wait time is: 202.9375\n",
      "Num of active cars is: 350\n",
      "Score for city 10 is: 2.0400880482560795\n",
      "starting to going over city number 11 out of 50\n",
      "avg wait time is: 202.203125\n",
      "Num of active cars is: 350\n",
      "Score for city 11 is: 2.0360030680534256\n",
      "starting to going over city number 12 out of 50\n",
      "avg wait time is: 202.765625\n",
      "Num of active cars is: 350\n",
      "Score for city 12 is: 2.039850947663644\n",
      "starting to going over city number 13 out of 50\n",
      "avg wait time is: 202.046875\n",
      "Num of active cars is: 350\n",
      "Score for city 13 is: 2.0387863277783485\n",
      "starting to going over city number 14 out of 50\n",
      "avg wait time is: 201.890625\n",
      "Num of active cars is: 350\n",
      "Score for city 14 is: 2.0395055365065096\n",
      "starting to going over city number 15 out of 50\n",
      "avg wait time is: 202.4375\n",
      "Num of active cars is: 350\n",
      "Score for city 15 is: 2.0454380857438865\n",
      "starting to going over city number 16 out of 50\n",
      "avg wait time is: 202.3125\n",
      "Num of active cars is: 350\n",
      "Score for city 16 is: 2.040463237512676\n",
      "starting to going over city number 17 out of 50\n",
      "avg wait time is: 202.125\n",
      "Num of active cars is: 350\n",
      "Score for city 17 is: 2.0478944215356947\n",
      "starting to going over city number 18 out of 50\n",
      "avg wait time is: 202.984375\n",
      "Num of active cars is: 350\n",
      "Score for city 18 is: 2.038357913892258\n",
      "starting to going over city number 19 out of 50\n",
      "avg wait time is: 202.40625\n",
      "Num of active cars is: 350\n",
      "Score for city 19 is: 2.0391821486394797\n",
      "starting to going over city number 20 out of 50\n",
      "avg wait time is: 202.796875\n",
      "Num of active cars is: 350\n",
      "Score for city 20 is: 2.0361607193292057\n",
      "starting to going over city number 21 out of 50\n",
      "avg wait time is: 202.4375\n",
      "Num of active cars is: 350\n",
      "Score for city 21 is: 2.0445294551909345\n",
      "starting to going over city number 22 out of 50\n",
      "avg wait time is: 202.0625\n",
      "Num of active cars is: 350\n",
      "Score for city 22 is: 2.03896472198282\n",
      "starting to going over city number 23 out of 50\n",
      "avg wait time is: 202.109375\n",
      "Num of active cars is: 350\n",
      "Score for city 23 is: 2.0395440517111707\n",
      "starting to going over city number 24 out of 50\n",
      "avg wait time is: 202.25\n",
      "Num of active cars is: 350\n",
      "Score for city 24 is: 2.036702725207913\n",
      "starting to going over city number 25 out of 50\n"
     ]
    }
   ],
   "source": [
    "print(\"Training the solver...\")\n",
    "solver.train(num_training_cities, num_cars)\n",
    "print(\"Training completed.\")"
   ],
   "metadata": {
    "collapsed": false,
    "pycharm": {
     "is_executing": true
    }
   }
  },
  {
   "cell_type": "code",
   "execution_count": 7,
   "outputs": [
    {
     "name": "stdout",
     "output_type": "stream",
     "text": [
      "Generating a random city to solve...\n",
      "Solving the random city...\n"
     ]
    },
    {
     "ename": "RuntimeError",
     "evalue": "Max iteration reached and there are still: 47 active cars.",
     "output_type": "error",
     "traceback": [
      "\u001B[1;31m---------------------------------------------------------------------------\u001B[0m",
      "\u001B[1;31mRuntimeError\u001B[0m                              Traceback (most recent call last)",
      "Cell \u001B[1;32mIn[7], line 7\u001B[0m\n\u001B[0;32m      5\u001B[0m \u001B[38;5;66;03m# Solve the random city\u001B[39;00m\n\u001B[0;32m      6\u001B[0m \u001B[38;5;28mprint\u001B[39m(\u001B[38;5;124m\"\u001B[39m\u001B[38;5;124mSolving the random city...\u001B[39m\u001B[38;5;124m\"\u001B[39m)\n\u001B[1;32m----> 7\u001B[0m solution \u001B[38;5;241m=\u001B[39m \u001B[43msolver\u001B[49m\u001B[38;5;241;43m.\u001B[39;49m\u001B[43msolve\u001B[49m\u001B[43m(\u001B[49m\u001B[43mrandom_city\u001B[49m\u001B[43m)\u001B[49m\n\u001B[0;32m      9\u001B[0m \u001B[38;5;66;03m# Report the results\u001B[39;00m\n\u001B[0;32m     10\u001B[0m \u001B[38;5;28mprint\u001B[39m(\u001B[38;5;124m\"\u001B[39m\u001B[38;5;124mSolution found!\u001B[39m\u001B[38;5;124m\"\u001B[39m)\n",
      "File \u001B[1;32m~\\Code\\Projects\\traffic-system\\Solvers\\PPOSolver.py:65\u001B[0m, in \u001B[0;36mPPOSolver.solve\u001B[1;34m(self, city)\u001B[0m\n\u001B[0;32m     62\u001B[0m     counter \u001B[38;5;241m+\u001B[39m\u001B[38;5;241m=\u001B[39m \u001B[38;5;241m1\u001B[39m\n\u001B[0;32m     64\u001B[0m \u001B[38;5;28;01mif\u001B[39;00m counter \u001B[38;5;241m>\u001B[39m\u001B[38;5;241m=\u001B[39m MAX_ITERATIONS:\n\u001B[1;32m---> 65\u001B[0m     \u001B[38;5;28;01mraise\u001B[39;00m \u001B[38;5;167;01mRuntimeError\u001B[39;00m(\u001B[38;5;124mf\u001B[39m\u001B[38;5;124m\"\u001B[39m\u001B[38;5;124mMax iteration reached and there are still: \u001B[39m\u001B[38;5;132;01m{\u001B[39;00mcity\u001B[38;5;241m.\u001B[39mactive_cars_amount()\u001B[38;5;132;01m}\u001B[39;00m\u001B[38;5;124m active cars.\u001B[39m\u001B[38;5;124m\"\u001B[39m)\n\u001B[0;32m     67\u001B[0m \u001B[38;5;28;01mreturn\u001B[39;00m np\u001B[38;5;241m.\u001B[39marray(solution)\n",
      "\u001B[1;31mRuntimeError\u001B[0m: Max iteration reached and there are still: 47 active cars."
     ]
    }
   ],
   "source": [
    "from Model.City import City\n",
    "print(\"Generating a random city to solve...\")\n",
    "random_city = City.generate_cities(n, m, num_cars, 1)[0]\n",
    "\n",
    "# Solve the random city\n",
    "print(\"Solving the random city...\")\n",
    "solution = solver.solve(random_city)\n",
    "\n",
    "# Report the results\n",
    "print(\"Solution found!\")\n",
    "print(f\"Number of time steps: {len(solution)}\")\n",
    "print(f\"Final number of active cars: {random_city.active_cars_amount()}\")"
   ],
   "metadata": {
    "collapsed": false
   }
  }
 ],
 "metadata": {
  "kernelspec": {
   "display_name": "Python 3",
   "language": "python",
   "name": "python3"
  },
  "language_info": {
   "codemirror_mode": {
    "name": "ipython",
    "version": 2
   },
   "file_extension": ".py",
   "mimetype": "text/x-python",
   "name": "python",
   "nbconvert_exporter": "python",
   "pygments_lexer": "ipython2",
   "version": "2.7.6"
  }
 },
 "nbformat": 4,
 "nbformat_minor": 0
}
