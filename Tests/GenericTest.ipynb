{
 "cells": [
  {
   "cell_type": "code",
   "execution_count": 1,
   "source": [
    "from GeneticSolver import GeneticSolver\n",
    "from Reporter import Reporter\n"
   ],
   "metadata": {
    "collapsed": false
   },
   "outputs": []
  },
  {
   "cell_type": "code",
   "execution_count": 2,
   "source": [
    "\n",
    "population_size = 100\n",
    "n = 10\n",
    "m = 10\n",
    "t = 30\n",
    "\n",
    "mutation_rate = 0.005\n",
    "generations = 10000\n",
    "num_cities = 10\n",
    "num_cars = 50\n"
   ],
   "metadata": {
    "collapsed": false
   },
   "outputs": []
  },
  {
   "cell_type": "code",
   "execution_count": null,
   "source": [
    "\n",
    "reporter = Reporter()\n",
    "solver = GeneticSolver(population_size, reporter, mutation_rate, generations, n, m, t)\n",
    "best_solution = solver.solve(num_cities, num_cars)\n",
    "solver.plot_fitness_history()\n"
   ],
   "metadata": {
    "collapsed": false,
    "pycharm": {
     "is_executing": true
    }
   },
   "outputs": []
  },
  {
   "cell_type": "code",
   "execution_count": null,
   "source": [],
   "metadata": {
    "collapsed": false
   },
   "outputs": []
  }
 ],
 "metadata": {
  "kernelspec": {
   "display_name": "Python 3",
   "language": "python",
   "name": "python3"
  },
  "language_info": {
   "codemirror_mode": {
    "name": "ipython",
    "version": 2
   },
   "file_extension": ".py",
   "mimetype": "text/x-python",
   "name": "python",
   "nbconvert_exporter": "python",
   "pygments_lexer": "ipython2",
   "version": "2.7.6"
  }
 },
 "nbformat": 4,
 "nbformat_minor": 0
}
