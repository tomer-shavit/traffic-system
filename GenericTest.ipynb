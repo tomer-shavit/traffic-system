{
 "cells": [
  {
   "cell_type": "code",
   "execution_count": 52,
   "metadata": {
    "collapsed": true
   },
   "outputs": [],
   "source": [
    "from GeneticSolver import GeneticSolver"
   ]
  },
  {
   "cell_type": "code",
   "execution_count": 53,
   "outputs": [],
   "source": [
    "population_size = 100\n",
    "n = 6\n",
    "m = 6\n",
    "t = 20\n",
    "mutation_rate = 0.005\n",
    "generations = 1000\n",
    "num_cities = 10\n",
    "num_cars = 100\n"
   ],
   "metadata": {
    "collapsed": false
   }
  },
  {
   "cell_type": "code",
   "execution_count": 54,
   "outputs": [],
   "source": [
    "solver = GeneticSolver(population_size, mutation_rate, generations, n, m, t)"
   ],
   "metadata": {
    "collapsed": false
   }
  },
  {
   "cell_type": "code",
   "execution_count": 58,
   "outputs": [
    {
     "name": "stdout",
     "output_type": "stream",
     "text": [
      "Generation 1: Best fitness = 5.6841648356303605\n"
     ]
    },
    {
     "ename": "KeyboardInterrupt",
     "evalue": "",
     "output_type": "error",
     "traceback": [
      "\u001B[1;31m---------------------------------------------------------------------------\u001B[0m",
      "\u001B[1;31mKeyboardInterrupt\u001B[0m                         Traceback (most recent call last)",
      "Cell \u001B[1;32mIn[58], line 1\u001B[0m\n\u001B[1;32m----> 1\u001B[0m \u001B[43msolver\u001B[49m\u001B[38;5;241;43m.\u001B[39;49m\u001B[43msolve\u001B[49m\u001B[43m(\u001B[49m\u001B[43mnum_cities\u001B[49m\u001B[43m,\u001B[49m\u001B[43m \u001B[49m\u001B[43mnum_cars\u001B[49m\u001B[43m)\u001B[49m\n",
      "File \u001B[1;32m~\\Code\\Projects\\traffic-system\\GeneticSolver.py:156\u001B[0m, in \u001B[0;36mGeneticSolver.solve\u001B[1;34m(self, num_cities, num_cars)\u001B[0m\n\u001B[0;32m    152\u001B[0m \u001B[38;5;28;01mfor\u001B[39;00m generation \u001B[38;5;129;01min\u001B[39;00m \u001B[38;5;28mrange\u001B[39m(\u001B[38;5;28mself\u001B[39m\u001B[38;5;241m.\u001B[39mgenerations):\n\u001B[0;32m    153\u001B[0m     \u001B[38;5;66;03m# Generate new random cities for this generation\u001B[39;00m\n\u001B[0;32m    154\u001B[0m     cities \u001B[38;5;241m=\u001B[39m City\u001B[38;5;241m.\u001B[39mgenerate_cities(\u001B[38;5;28mself\u001B[39m\u001B[38;5;241m.\u001B[39mn, \u001B[38;5;28mself\u001B[39m\u001B[38;5;241m.\u001B[39mm, num_cars, num_cities)\n\u001B[1;32m--> 156\u001B[0m     fitness_scores \u001B[38;5;241m=\u001B[39m np\u001B[38;5;241m.\u001B[39marray([\u001B[38;5;28mself\u001B[39m\u001B[38;5;241m.\u001B[39mevaluate_solution(solution, cities) \u001B[38;5;28;01mfor\u001B[39;00m solution \u001B[38;5;129;01min\u001B[39;00m population])\n\u001B[0;32m    157\u001B[0m     best_index \u001B[38;5;241m=\u001B[39m np\u001B[38;5;241m.\u001B[39margmin(fitness_scores)\n\u001B[0;32m    158\u001B[0m     best_solution \u001B[38;5;241m=\u001B[39m population[best_index]\n",
      "File \u001B[1;32m~\\Code\\Projects\\traffic-system\\GeneticSolver.py:156\u001B[0m, in \u001B[0;36m<listcomp>\u001B[1;34m(.0)\u001B[0m\n\u001B[0;32m    152\u001B[0m \u001B[38;5;28;01mfor\u001B[39;00m generation \u001B[38;5;129;01min\u001B[39;00m \u001B[38;5;28mrange\u001B[39m(\u001B[38;5;28mself\u001B[39m\u001B[38;5;241m.\u001B[39mgenerations):\n\u001B[0;32m    153\u001B[0m     \u001B[38;5;66;03m# Generate new random cities for this generation\u001B[39;00m\n\u001B[0;32m    154\u001B[0m     cities \u001B[38;5;241m=\u001B[39m City\u001B[38;5;241m.\u001B[39mgenerate_cities(\u001B[38;5;28mself\u001B[39m\u001B[38;5;241m.\u001B[39mn, \u001B[38;5;28mself\u001B[39m\u001B[38;5;241m.\u001B[39mm, num_cars, num_cities)\n\u001B[1;32m--> 156\u001B[0m     fitness_scores \u001B[38;5;241m=\u001B[39m np\u001B[38;5;241m.\u001B[39marray([\u001B[38;5;28;43mself\u001B[39;49m\u001B[38;5;241;43m.\u001B[39;49m\u001B[43mevaluate_solution\u001B[49m\u001B[43m(\u001B[49m\u001B[43msolution\u001B[49m\u001B[43m,\u001B[49m\u001B[43m \u001B[49m\u001B[43mcities\u001B[49m\u001B[43m)\u001B[49m \u001B[38;5;28;01mfor\u001B[39;00m solution \u001B[38;5;129;01min\u001B[39;00m population])\n\u001B[0;32m    157\u001B[0m     best_index \u001B[38;5;241m=\u001B[39m np\u001B[38;5;241m.\u001B[39margmin(fitness_scores)\n\u001B[0;32m    158\u001B[0m     best_solution \u001B[38;5;241m=\u001B[39m population[best_index]\n",
      "File \u001B[1;32m~\\Code\\Projects\\traffic-system\\GeneticSolver.py:115\u001B[0m, in \u001B[0;36mevaluate_solution\u001B[1;34m(self, solution, cities)\u001B[0m\n\u001B[0;32m    113\u001B[0m \u001B[38;5;28;01mfor\u001B[39;00m city \u001B[38;5;129;01min\u001B[39;00m cities:\n\u001B[0;32m    114\u001B[0m     \u001B[38;5;28;01mfor\u001B[39;00m t \u001B[38;5;129;01min\u001B[39;00m \u001B[38;5;28mrange\u001B[39m(\u001B[38;5;28mself\u001B[39m\u001B[38;5;241m.\u001B[39mt):\n\u001B[1;32m--> 115\u001B[0m         city\u001B[38;5;241m.\u001B[39mupdate_city(solution[t], debug)\n\u001B[0;32m    117\u001B[0m     total_avg_wait_time \u001B[38;5;241m+\u001B[39m\u001B[38;5;241m=\u001B[39m city\u001B[38;5;241m.\u001B[39mget_current_avg_wait_time()\n\u001B[0;32m    119\u001B[0m     waiting_cars_penalty \u001B[38;5;241m+\u001B[39m\u001B[38;5;241m=\u001B[39m city\u001B[38;5;241m.\u001B[39mdriving_cars_amount() \u001B[38;5;241m*\u001B[39m NOT_REACHING_DEST_PENALTY\n",
      "File \u001B[1;32m~\\Code\\Projects\\traffic-system\\GeneticSolver.py:115\u001B[0m, in \u001B[0;36mevaluate_solution\u001B[1;34m(self, solution, cities)\u001B[0m\n\u001B[0;32m    113\u001B[0m \u001B[38;5;28;01mfor\u001B[39;00m city \u001B[38;5;129;01min\u001B[39;00m cities:\n\u001B[0;32m    114\u001B[0m     \u001B[38;5;28;01mfor\u001B[39;00m t \u001B[38;5;129;01min\u001B[39;00m \u001B[38;5;28mrange\u001B[39m(\u001B[38;5;28mself\u001B[39m\u001B[38;5;241m.\u001B[39mt):\n\u001B[1;32m--> 115\u001B[0m         city\u001B[38;5;241m.\u001B[39mupdate_city(solution[t], debug)\n\u001B[0;32m    117\u001B[0m     total_avg_wait_time \u001B[38;5;241m+\u001B[39m\u001B[38;5;241m=\u001B[39m city\u001B[38;5;241m.\u001B[39mget_current_avg_wait_time()\n\u001B[0;32m    119\u001B[0m     waiting_cars_penalty \u001B[38;5;241m+\u001B[39m\u001B[38;5;241m=\u001B[39m city\u001B[38;5;241m.\u001B[39mdriving_cars_amount() \u001B[38;5;241m*\u001B[39m NOT_REACHING_DEST_PENALTY\n",
      "File \u001B[1;32m_pydevd_bundle\\pydevd_cython_win32_310_64.pyx:1179\u001B[0m, in \u001B[0;36m_pydevd_bundle.pydevd_cython_win32_310_64.SafeCallWrapper.__call__\u001B[1;34m()\u001B[0m\n",
      "File \u001B[1;32m_pydevd_bundle\\pydevd_cython_win32_310_64.pyx:620\u001B[0m, in \u001B[0;36m_pydevd_bundle.pydevd_cython_win32_310_64.PyDBFrame.trace_dispatch\u001B[1;34m()\u001B[0m\n",
      "File \u001B[1;32m_pydevd_bundle\\pydevd_cython_win32_310_64.pyx:1095\u001B[0m, in \u001B[0;36m_pydevd_bundle.pydevd_cython_win32_310_64.PyDBFrame.trace_dispatch\u001B[1;34m()\u001B[0m\n",
      "File \u001B[1;32m_pydevd_bundle\\pydevd_cython_win32_310_64.pyx:1057\u001B[0m, in \u001B[0;36m_pydevd_bundle.pydevd_cython_win32_310_64.PyDBFrame.trace_dispatch\u001B[1;34m()\u001B[0m\n",
      "File \u001B[1;32m_pydevd_bundle\\pydevd_cython_win32_310_64.pyx:317\u001B[0m, in \u001B[0;36m_pydevd_bundle.pydevd_cython_win32_310_64.PyDBFrame.do_wait_suspend\u001B[1;34m()\u001B[0m\n",
      "File \u001B[1;32mC:\\Program Files\\JetBrains\\PyCharm 2022.3.3\\plugins\\python\\helpers\\pydev\\pydevd.py:1160\u001B[0m, in \u001B[0;36mPyDB.do_wait_suspend\u001B[1;34m(self, thread, frame, event, arg, send_suspend_message, is_unhandled_exception)\u001B[0m\n\u001B[0;32m   1157\u001B[0m         from_this_thread\u001B[38;5;241m.\u001B[39mappend(frame_id)\n\u001B[0;32m   1159\u001B[0m \u001B[38;5;28;01mwith\u001B[39;00m \u001B[38;5;28mself\u001B[39m\u001B[38;5;241m.\u001B[39m_threads_suspended_single_notification\u001B[38;5;241m.\u001B[39mnotify_thread_suspended(thread_id, stop_reason):\n\u001B[1;32m-> 1160\u001B[0m     \u001B[38;5;28;43mself\u001B[39;49m\u001B[38;5;241;43m.\u001B[39;49m\u001B[43m_do_wait_suspend\u001B[49m\u001B[43m(\u001B[49m\u001B[43mthread\u001B[49m\u001B[43m,\u001B[49m\u001B[43m \u001B[49m\u001B[43mframe\u001B[49m\u001B[43m,\u001B[49m\u001B[43m \u001B[49m\u001B[43mevent\u001B[49m\u001B[43m,\u001B[49m\u001B[43m \u001B[49m\u001B[43marg\u001B[49m\u001B[43m,\u001B[49m\u001B[43m \u001B[49m\u001B[43msuspend_type\u001B[49m\u001B[43m,\u001B[49m\u001B[43m \u001B[49m\u001B[43mfrom_this_thread\u001B[49m\u001B[43m)\u001B[49m\n",
      "File \u001B[1;32mC:\\Program Files\\JetBrains\\PyCharm 2022.3.3\\plugins\\python\\helpers\\pydev\\pydevd.py:1175\u001B[0m, in \u001B[0;36mPyDB._do_wait_suspend\u001B[1;34m(self, thread, frame, event, arg, suspend_type, from_this_thread)\u001B[0m\n\u001B[0;32m   1172\u001B[0m             \u001B[38;5;28mself\u001B[39m\u001B[38;5;241m.\u001B[39m_call_mpl_hook()\n\u001B[0;32m   1174\u001B[0m         \u001B[38;5;28mself\u001B[39m\u001B[38;5;241m.\u001B[39mprocess_internal_commands()\n\u001B[1;32m-> 1175\u001B[0m         \u001B[43mtime\u001B[49m\u001B[38;5;241;43m.\u001B[39;49m\u001B[43msleep\u001B[49m\u001B[43m(\u001B[49m\u001B[38;5;241;43m0.01\u001B[39;49m\u001B[43m)\u001B[49m\n\u001B[0;32m   1177\u001B[0m \u001B[38;5;28mself\u001B[39m\u001B[38;5;241m.\u001B[39mcancel_async_evaluation(get_current_thread_id(thread), \u001B[38;5;28mstr\u001B[39m(\u001B[38;5;28mid\u001B[39m(frame)))\n\u001B[0;32m   1179\u001B[0m \u001B[38;5;66;03m# process any stepping instructions\u001B[39;00m\n",
      "\u001B[1;31mKeyboardInterrupt\u001B[0m: "
     ]
    }
   ],
   "source": [
    "solver.solve(num_cities, num_cars)"
   ],
   "metadata": {
    "collapsed": false
   }
  },
  {
   "cell_type": "code",
   "execution_count": 57,
   "outputs": [],
   "source": [],
   "metadata": {
    "collapsed": false
   }
  }
 ],
 "metadata": {
  "kernelspec": {
   "display_name": "Python 3",
   "language": "python",
   "name": "python3"
  },
  "language_info": {
   "codemirror_mode": {
    "name": "ipython",
    "version": 2
   },
   "file_extension": ".py",
   "mimetype": "text/x-python",
   "name": "python",
   "nbconvert_exporter": "python",
   "pygments_lexer": "ipython2",
   "version": "2.7.6"
  }
 },
 "nbformat": 4,
 "nbformat_minor": 0
}
