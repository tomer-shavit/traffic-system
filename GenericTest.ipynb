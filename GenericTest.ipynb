{
 "cells": [
  {
   "cell_type": "code",
   "execution_count": 20,
   "metadata": {
    "collapsed": true
   },
   "outputs": [],
   "source": [
    "from GeneticSolver import GeneticSolver"
   ]
  },
  {
   "cell_type": "code",
   "execution_count": 24,
   "outputs": [],
   "source": [
    "population_size = 100\n",
    "n = 20\n",
    "m = 20\n",
    "t = 50\n",
    "mutation_rate = 0.001\n",
    "generations = 1000\n",
    "num_cities = 10\n",
    "num_cars = 20\n"
   ],
   "metadata": {
    "collapsed": false
   }
  },
  {
   "cell_type": "code",
   "execution_count": 25,
   "outputs": [],
   "source": [
    "solver = GeneticSolver(population_size, mutation_rate, generations, n, m, t)"
   ],
   "metadata": {
    "collapsed": false
   }
  },
  {
   "cell_type": "code",
   "execution_count": 26,
   "outputs": [
    {
     "name": "stdout",
     "output_type": "stream",
     "text": [
      "Generation 1: Best fitness = 1.7776912761258352\n",
      "Generation 2: Best fitness = 1.9174321316658485\n",
      "Generation 3: Best fitness = 2.2879638490927285\n",
      "Generation 4: Best fitness = 2.0523234500181196\n",
      "Generation 5: Best fitness = 2.0462684618400178\n",
      "Generation 6: Best fitness = 1.934251160380727\n",
      "Generation 7: Best fitness = 2.2369260775065145\n"
     ]
    },
    {
     "ename": "KeyboardInterrupt",
     "evalue": "",
     "output_type": "error",
     "traceback": [
      "\u001B[1;31m---------------------------------------------------------------------------\u001B[0m",
      "\u001B[1;31mKeyboardInterrupt\u001B[0m                         Traceback (most recent call last)",
      "Cell \u001B[1;32mIn[26], line 1\u001B[0m\n\u001B[1;32m----> 1\u001B[0m \u001B[43msolver\u001B[49m\u001B[38;5;241;43m.\u001B[39;49m\u001B[43msolve\u001B[49m\u001B[43m(\u001B[49m\u001B[43mnum_cities\u001B[49m\u001B[43m,\u001B[49m\u001B[43m \u001B[49m\u001B[43mnum_cars\u001B[49m\u001B[43m)\u001B[49m\n",
      "File \u001B[1;32m~\\Code\\Projects\\traffic-system\\GeneticSolver.py:156\u001B[0m, in \u001B[0;36mGeneticSolver.solve\u001B[1;34m(self, num_cities, num_cars)\u001B[0m\n\u001B[0;32m    152\u001B[0m \u001B[38;5;28;01mfor\u001B[39;00m generation \u001B[38;5;129;01min\u001B[39;00m \u001B[38;5;28mrange\u001B[39m(\u001B[38;5;28mself\u001B[39m\u001B[38;5;241m.\u001B[39mgenerations):\n\u001B[0;32m    153\u001B[0m     \u001B[38;5;66;03m# Generate new random cities for this generation\u001B[39;00m\n\u001B[0;32m    154\u001B[0m     cities \u001B[38;5;241m=\u001B[39m City\u001B[38;5;241m.\u001B[39mgenerate_cities(\u001B[38;5;28mself\u001B[39m\u001B[38;5;241m.\u001B[39mn, \u001B[38;5;28mself\u001B[39m\u001B[38;5;241m.\u001B[39mm, num_cars, num_cities)\n\u001B[1;32m--> 156\u001B[0m     fitness_scores \u001B[38;5;241m=\u001B[39m np\u001B[38;5;241m.\u001B[39marray([\u001B[38;5;28mself\u001B[39m\u001B[38;5;241m.\u001B[39mevaluate_solution(solution, cities) \u001B[38;5;28;01mfor\u001B[39;00m solution \u001B[38;5;129;01min\u001B[39;00m population])\n\u001B[0;32m    157\u001B[0m     best_index \u001B[38;5;241m=\u001B[39m np\u001B[38;5;241m.\u001B[39margmin(fitness_scores)\n\u001B[0;32m    158\u001B[0m     best_solution \u001B[38;5;241m=\u001B[39m population[best_index]\n",
      "File \u001B[1;32m~\\Code\\Projects\\traffic-system\\GeneticSolver.py:156\u001B[0m, in \u001B[0;36m<listcomp>\u001B[1;34m(.0)\u001B[0m\n\u001B[0;32m    152\u001B[0m \u001B[38;5;28;01mfor\u001B[39;00m generation \u001B[38;5;129;01min\u001B[39;00m \u001B[38;5;28mrange\u001B[39m(\u001B[38;5;28mself\u001B[39m\u001B[38;5;241m.\u001B[39mgenerations):\n\u001B[0;32m    153\u001B[0m     \u001B[38;5;66;03m# Generate new random cities for this generation\u001B[39;00m\n\u001B[0;32m    154\u001B[0m     cities \u001B[38;5;241m=\u001B[39m City\u001B[38;5;241m.\u001B[39mgenerate_cities(\u001B[38;5;28mself\u001B[39m\u001B[38;5;241m.\u001B[39mn, \u001B[38;5;28mself\u001B[39m\u001B[38;5;241m.\u001B[39mm, num_cars, num_cities)\n\u001B[1;32m--> 156\u001B[0m     fitness_scores \u001B[38;5;241m=\u001B[39m np\u001B[38;5;241m.\u001B[39marray([\u001B[38;5;28;43mself\u001B[39;49m\u001B[38;5;241;43m.\u001B[39;49m\u001B[43mevaluate_solution\u001B[49m\u001B[43m(\u001B[49m\u001B[43msolution\u001B[49m\u001B[43m,\u001B[49m\u001B[43m \u001B[49m\u001B[43mcities\u001B[49m\u001B[43m)\u001B[49m \u001B[38;5;28;01mfor\u001B[39;00m solution \u001B[38;5;129;01min\u001B[39;00m population])\n\u001B[0;32m    157\u001B[0m     best_index \u001B[38;5;241m=\u001B[39m np\u001B[38;5;241m.\u001B[39margmin(fitness_scores)\n\u001B[0;32m    158\u001B[0m     best_solution \u001B[38;5;241m=\u001B[39m population[best_index]\n",
      "File \u001B[1;32m~\\Code\\Projects\\traffic-system\\GeneticSolver.py:112\u001B[0m, in \u001B[0;36mevaluate_solution\u001B[1;34m(self, solution, cities)\u001B[0m\n\u001B[0;32m    110\u001B[0m total_avg_wait_time \u001B[38;5;241m=\u001B[39m \u001B[38;5;241m0\u001B[39m\n\u001B[0;32m    111\u001B[0m \u001B[38;5;28;01mfor\u001B[39;00m city \u001B[38;5;129;01min\u001B[39;00m cities:\n\u001B[1;32m--> 112\u001B[0m     \u001B[38;5;28;01mfor\u001B[39;00m t \u001B[38;5;129;01min\u001B[39;00m \u001B[38;5;28mrange\u001B[39m(\u001B[38;5;28mself\u001B[39m\u001B[38;5;241m.\u001B[39mt):\n\u001B[0;32m    113\u001B[0m         city\u001B[38;5;241m.\u001B[39mupdate_city(solution[t])\n\u001B[0;32m    115\u001B[0m     \u001B[38;5;28;01mif\u001B[39;00m city\u001B[38;5;241m.\u001B[39mdid_all_cars_arrive():\n",
      "File \u001B[1;32m~\\Code\\Projects\\traffic-system\\City.py:65\u001B[0m, in \u001B[0;36mCity.update_city\u001B[1;34m(self, assignment)\u001B[0m\n\u001B[0;32m     63\u001B[0m \u001B[38;5;28;01mdef\u001B[39;00m \u001B[38;5;21mupdate_city\u001B[39m(\u001B[38;5;28mself\u001B[39m, assignment: ndarray):\n\u001B[0;32m     64\u001B[0m     \u001B[38;5;28mself\u001B[39m\u001B[38;5;241m.\u001B[39mtraffic_system\u001B[38;5;241m.\u001B[39mupdate_traffic_lights(assignment)\n\u001B[1;32m---> 65\u001B[0m     \u001B[38;5;28;43mself\u001B[39;49m\u001B[38;5;241;43m.\u001B[39;49m\u001B[43mgrid\u001B[49m\u001B[38;5;241;43m.\u001B[39;49m\u001B[43mupdate_grid\u001B[49m\u001B[43m(\u001B[49m\u001B[43m)\u001B[49m\n\u001B[0;32m     66\u001B[0m     \u001B[38;5;28mself\u001B[39m\u001B[38;5;241m.\u001B[39madd_cars_to_grid_by_time()\n\u001B[0;32m     67\u001B[0m     \u001B[38;5;28mself\u001B[39m\u001B[38;5;241m.\u001B[39mtime \u001B[38;5;241m+\u001B[39m\u001B[38;5;241m=\u001B[39m \u001B[38;5;241m1\u001B[39m\n",
      "File \u001B[1;32m~\\Code\\Projects\\traffic-system\\Grid.py:49\u001B[0m, in \u001B[0;36mGrid.update_grid\u001B[1;34m(self)\u001B[0m\n\u001B[0;32m     47\u001B[0m \u001B[38;5;28;01mfor\u001B[39;00m j \u001B[38;5;129;01min\u001B[39;00m \u001B[38;5;28mrange\u001B[39m(\u001B[38;5;28mself\u001B[39m\u001B[38;5;241m.\u001B[39mm):\n\u001B[0;32m     48\u001B[0m     junction \u001B[38;5;241m=\u001B[39m \u001B[38;5;28mself\u001B[39m\u001B[38;5;241m.\u001B[39mjunctions[i][j]\n\u001B[1;32m---> 49\u001B[0m     direction, moving_cars \u001B[38;5;241m=\u001B[39m \u001B[43mjunction\u001B[49m\u001B[38;5;241;43m.\u001B[39;49m\u001B[43mresolve_moving_cars\u001B[49m\u001B[43m(\u001B[49m\u001B[43m)\u001B[49m\n\u001B[0;32m     51\u001B[0m     \u001B[38;5;28;01mfor\u001B[39;00m car \u001B[38;5;129;01min\u001B[39;00m moving_cars:\n\u001B[0;32m     52\u001B[0m         \u001B[38;5;28;01mif\u001B[39;00m direction \u001B[38;5;241m==\u001B[39m Direction\u001B[38;5;241m.\u001B[39mVERTICAL \u001B[38;5;129;01mand\u001B[39;00m i \u001B[38;5;241m<\u001B[39m \u001B[38;5;28mself\u001B[39m\u001B[38;5;241m.\u001B[39mn \u001B[38;5;241m-\u001B[39m \u001B[38;5;241m1\u001B[39m:\n",
      "File \u001B[1;32m~\\Code\\Projects\\traffic-system\\Junction.py:29\u001B[0m, in \u001B[0;36mJunction.resolve_moving_cars\u001B[1;34m(self)\u001B[0m\n\u001B[0;32m     24\u001B[0m \u001B[38;5;28;01mdef\u001B[39;00m \u001B[38;5;21mresolve_moving_cars\u001B[39m(\u001B[38;5;28mself\u001B[39m) \u001B[38;5;241m-\u001B[39m\u001B[38;5;241m>\u001B[39m Tuple[Direction, List[Car]]:\n\u001B[0;32m     25\u001B[0m \u001B[38;5;250m    \u001B[39m\u001B[38;5;124;03m\"\"\"\u001B[39;00m\n\u001B[0;32m     26\u001B[0m \u001B[38;5;124;03m    Update the junction state and return the current traffic light direction\u001B[39;00m\n\u001B[0;32m     27\u001B[0m \u001B[38;5;124;03m    and the list of cars that can move.\u001B[39;00m\n\u001B[0;32m     28\u001B[0m \u001B[38;5;124;03m    \"\"\"\u001B[39;00m\n\u001B[1;32m---> 29\u001B[0m     current_direction \u001B[38;5;241m=\u001B[39m \u001B[38;5;28;43mself\u001B[39;49m\u001B[38;5;241;43m.\u001B[39;49m\u001B[43mtraffic_light\u001B[49m\u001B[38;5;241;43m.\u001B[39;49m\u001B[43mget_current_direction\u001B[49m\u001B[43m(\u001B[49m\u001B[43m)\u001B[49m\n\u001B[0;32m     30\u001B[0m     cars_to_move \u001B[38;5;241m=\u001B[39m [car \u001B[38;5;28;01mfor\u001B[39;00m car \u001B[38;5;129;01min\u001B[39;00m \u001B[38;5;28mself\u001B[39m\u001B[38;5;241m.\u001B[39mcars\u001B[38;5;241m.\u001B[39mvalues() \u001B[38;5;28;01mif\u001B[39;00m car\u001B[38;5;241m.\u001B[39mcurrent_direction() \u001B[38;5;241m==\u001B[39m current_direction]\n\u001B[0;32m     32\u001B[0m     \u001B[38;5;28;01mfor\u001B[39;00m car_id, car \u001B[38;5;129;01min\u001B[39;00m \u001B[38;5;28mself\u001B[39m\u001B[38;5;241m.\u001B[39mcars\u001B[38;5;241m.\u001B[39mitems():\n",
      "File \u001B[1;32m~\\Code\\Projects\\traffic-system\\TrafficLight.py:8\u001B[0m, in \u001B[0;36mTrafficLight.get_current_direction\u001B[1;34m(self)\u001B[0m\n\u001B[0;32m      5\u001B[0m \u001B[38;5;28;01mdef\u001B[39;00m \u001B[38;5;21m__init__\u001B[39m(\u001B[38;5;28mself\u001B[39m):\n\u001B[0;32m      6\u001B[0m     \u001B[38;5;28mself\u001B[39m\u001B[38;5;241m.\u001B[39mcurrent_direction: Direction \u001B[38;5;241m=\u001B[39m Direction\u001B[38;5;241m.\u001B[39mHORIZONTAL\n\u001B[1;32m----> 8\u001B[0m \u001B[38;5;28;01mdef\u001B[39;00m \u001B[38;5;21mget_current_direction\u001B[39m(\u001B[38;5;28mself\u001B[39m) \u001B[38;5;241m-\u001B[39m\u001B[38;5;241m>\u001B[39m Direction:\n\u001B[0;32m      9\u001B[0m \u001B[38;5;250m    \u001B[39m\u001B[38;5;124;03m\"\"\"Get the current direction of the traffic light.\"\"\"\u001B[39;00m\n\u001B[0;32m     10\u001B[0m     \u001B[38;5;28;01mreturn\u001B[39;00m \u001B[38;5;28mself\u001B[39m\u001B[38;5;241m.\u001B[39mcurrent_direction\n",
      "\u001B[1;31mKeyboardInterrupt\u001B[0m: "
     ]
    }
   ],
   "source": [
    "solver.solve(num_cities, num_cars)"
   ],
   "metadata": {
    "collapsed": false
   }
  },
  {
   "cell_type": "code",
   "execution_count": null,
   "outputs": [],
   "source": [],
   "metadata": {
    "collapsed": false
   }
  }
 ],
 "metadata": {
  "kernelspec": {
   "display_name": "Python 3",
   "language": "python",
   "name": "python3"
  },
  "language_info": {
   "codemirror_mode": {
    "name": "ipython",
    "version": 2
   },
   "file_extension": ".py",
   "mimetype": "text/x-python",
   "name": "python",
   "nbconvert_exporter": "python",
   "pygments_lexer": "ipython2",
   "version": "2.7.6"
  }
 },
 "nbformat": 4,
 "nbformat_minor": 0
}
